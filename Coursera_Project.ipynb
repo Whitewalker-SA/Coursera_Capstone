{
    "cells": [
        {
            "cell_type": "markdown",
            "metadata": {},
            "source": "#This is a jupyter notebook for the Coursera capstone project, the notebook will be used throughout the project to illustrate the battle of neighbours intergrated with location data for analysis."
        },
        {
            "cell_type": "markdown",
            "metadata": {},
            "source": "import pandas as pd\nimport numpy as np\n\nprint(\"Hello Capstone Project Course\")"
        },
        {
            "cell_type": "markdown",
            "metadata": {},
            "source": ""
        }
    ],
    "metadata": {
        "kernelspec": {
            "display_name": "Python 3.6",
            "language": "python",
            "name": "python3"
        },
        "language_info": {
            "codemirror_mode": {
                "name": "ipython",
                "version": 3
            },
            "file_extension": ".py",
            "mimetype": "text/x-python",
            "name": "python",
            "nbconvert_exporter": "python",
            "pygments_lexer": "ipython3",
            "version": "3.6.9"
        }
    },
    "nbformat": 4,
    "nbformat_minor": 1
}